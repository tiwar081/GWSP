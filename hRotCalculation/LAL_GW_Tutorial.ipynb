{
 "cells": [
  {
   "cell_type": "code",
   "execution_count": null,
   "metadata": {
    "tags": []
   },
   "outputs": [],
   "source": [
    "import lalgwpe as gwpe\n",
    "import numpy as np\n",
    "import matplotlib.pyplot as plt\n",
    "import lal\n",
    "import pickle\n",
    "import os"
   ]
  },
  {
   "cell_type": "code",
   "execution_count": null,
   "metadata": {
    "tags": []
   },
   "outputs": [],
   "source": [
    "# set all parameters for the waveform\n",
    "\n",
    "# temporal duration of signal, seconds\n",
    "T = 128\n",
    "# sampling rate, Hertz\n",
    "Fs = 4096\n",
    "\n",
    "# strings corresponding to used detectors, code only supports LIGO Hanford/Livingston and Virgo now\n",
    "detstrings = ['H1', 'L1', 'V1']\n",
    "\n",
    "# instantiate parameter dictionary\n",
    "params = {}\n",
    "\n",
    "### intrinsic parameters of the black holes\n",
    "### masses [solar masses]\n",
    "params['mass_1'] = 1.4 # m1 > m2\n",
    "params['mass_2'] = 1.2 # code swaps masses if m2 > m1, but don't do this, it'll be confusing\n",
    "### spins [normalized, Kerr bound requires that magnitudes of these are <1]\n",
    "params['chi_1x'] = 0\n",
    "params['chi_1y'] = 0\n",
    "params['chi_1z'] = 0.5\n",
    "params['chi_2x'] = 0\n",
    "params['chi_2y'] = 0\n",
    "params['chi_2z'] = 0.8\n",
    "### dimensionless tidal deformabilities, these are zero for black holes, bc of the no hair theorem\n",
    "params['Lambda1'] = 0.0\n",
    "params['Lambda2'] = 0.0\n",
    "\n",
    "### extrinsic parameters\n",
    "params['distance'] = 40*lal.PC_SI*1e6 # luminosity distance [m] [Mpc when multiplied by lal.PC_SI*1e6]\n",
    "params['phi_ref'] = 1.5 # phase offset at reference frequency [rad]\n",
    "params['inclination'] = 1.0 # inclination angle of orbital angular momentum of binary\n",
    "params['ra'] = 3.4416 # right ascension (azimuthal angle of source wrt earth 0<ra<2pi)\n",
    "params['dec'] = -0.408084 # declination (polar angle of source wrt earth 0<dec<pi)\n",
    "params['psi'] = 1.25 # roll angle of orbital angular momentum of binary\n",
    "params['tgps'] = 1187008882.43 + 15*60 # gps time of merger (15 mins after time of GW170817)\n",
    "params['tcoarse'] = T/2 # time of merger in time series (0<tcoarse<T)\n",
    "params['tc'] = 0 # fine offset time of merger from tcoarse\n",
    "\n",
    "### frequencies used for the waveform conventions\n",
    "params['f_ref'] = 50 # reference frequency (unphysical convention that sets the phase offset) [Hz]\n",
    "params['f_min'] = 30 # Minimum frequency for model, when the model \"turns on\", keep this reasonably high or the waveform will overlap onto itself in multiple wraps\n",
    "params['f_max'] = Fs/2 # Half of the sampling frequency is the Nyquist frequency, which is the highest frequency stored by the frequency array (why is this?)"
   ]
  },
  {
   "cell_type": "code",
   "execution_count": null,
   "metadata": {},
   "outputs": [],
   "source": [
    "### compute time domain strain\n",
    "h_tf2 = gwpe.compute_strain_td(params, T, Fs, \"TaylorF2\")\n",
    "### corresponding time array\n",
    "t = np.linspace(-T/2, T/2-1/Fs, T*Fs)"
   ]
  },
  {
   "cell_type": "code",
   "execution_count": null,
   "metadata": {},
   "outputs": [],
   "source": [
    "%matplotlib inline\n",
    "plt.figure(figsize = (20,6))\n",
    "plt.plot(t, h_tf2[0], label = 'LIGO Hanford')\n",
    "plt.plot(t, h_tf2[1], label = 'LIGO Livingston')\n",
    "plt.plot(t, h_tf2[2], label = 'Virgo')\n",
    "plt.xlabel('time after merger (s)')\n",
    "plt.ylabel('strain')\n",
    "plt.xlim(-0.2, 0.03)\n",
    "plt.axvline(params['tcoarse'], label = 'merger time in reference detector (Livingston)')\n",
    "plt.legend()\n",
    "plt.show()"
   ]
  },
  {
   "cell_type": "code",
   "execution_count": null,
   "metadata": {},
   "outputs": [],
   "source": [
    "### compute frequency domain strain\n",
    "hf_tf2 = gwpe.compute_strain_fd(params, T, Fs, \"TaylorF2\")\n",
    "### corresponding frequency array\n",
    "f = np.linspace(0, Fs/2, T*Fs//2+1)"
   ]
  },
  {
   "cell_type": "code",
   "execution_count": null,
   "metadata": {},
   "outputs": [],
   "source": [
    "%matplotlib inline\n",
    "plt.figure(figsize = (20,6))\n",
    "plt.plot(f, abs(hf_tf2[0]), label = 'LIGO Hanford')\n",
    "plt.plot(f, abs(hf_tf2[1]), label = 'LIGO Livingston')\n",
    "plt.plot(f, abs(hf_tf2[2]), label = 'Virgo')\n",
    "plt.xlabel('Frequency (Hz)')\n",
    "plt.ylabel('strain')\n",
    "plt.xlim(0, 100)\n",
    "plt.legend()\n",
    "plt.show()"
   ]
  },
  {
   "cell_type": "code",
   "execution_count": null,
   "metadata": {},
   "outputs": [],
   "source": [
    "# Getting data, psd, etc.\n",
    "T_long = 8*T\n",
    "tgps = params['tgps']\n",
    "\n",
    "# #=============================================================\n",
    "# # This block pulls the data from gw-openscience.org, runs welch \n",
    "# # and stores the object in the pkl file, which taken a minute \n",
    "# # or so. Comment this whole block out after this file is created\n",
    "# # to avoid this extra runtime.\n",
    "# d = gwpe.data(T, Fs, T_long, tgps)\n",
    "# if not os.path.exists('pkl'):\n",
    "#     os.mkdir('pkl')\n",
    "# afile = open('pkl/15afterGW170817_data.pkl', 'wb')\n",
    "# pickle.dump(d, afile)\n",
    "# afile.close()\n",
    "# #=============================================================\n",
    "\n",
    "# reload data from file, only this needs to be run to get the data\n",
    "# object once the pkl file is generated\n",
    "file = open('pkl/15afterGW170817_data.pkl', 'rb')\n",
    "d = pickle.load(file)\n",
    "file.close()\n",
    "\n",
    "# get data and psd from the data object\n",
    "psd = d.psd\n",
    "fs = d.fs\n",
    "df = d.strain_fd\n",
    "dt = d.strain_td"
   ]
  },
  {
   "cell_type": "code",
   "execution_count": null,
   "metadata": {},
   "outputs": [],
   "source": [
    "# compute time and frequency domain strains for IMRPhenomXPHM model\n",
    "h_xphm = gwpe.compute_strain_td(params, T, Fs, \"IMRPhenomXPHM\")\n",
    "hf_xphm = gwpe.compute_strain_fd(params, T, Fs, \"IMRPhenomXPHM\")"
   ]
  },
  {
   "cell_type": "code",
   "execution_count": null,
   "metadata": {},
   "outputs": [],
   "source": [
    "%matplotlib inline\n",
    "plt.figure(figsize = (20,6))\n",
    "plt.plot(t, h_tf2[0], label = 'TaylorF2')\n",
    "plt.plot(t, h_xphm[0], label = 'IMRPhenomXPHM, unaligned')\n",
    "plt.xlabel('time after merger (s)')\n",
    "plt.ylabel('strain')\n",
    "plt.xlim(-0.2, 0.03)\n",
    "plt.axvline(params['tcoarse'], label = 'merger time in reference detector (Livingston)')\n",
    "plt.legend()\n",
    "plt.show()"
   ]
  },
  {
   "cell_type": "code",
   "execution_count": null,
   "metadata": {},
   "outputs": [],
   "source": [
    "cos_unaligned = gwpe.overlap_cosine(hf_xphm, hf_tf2, f, psd, T, params['f_min'], params['f_max'])\n",
    "print(cos_unaligned)"
   ]
  },
  {
   "cell_type": "code",
   "execution_count": null,
   "metadata": {},
   "outputs": [],
   "source": [
    "h_xphm_matched = gwpe.match_phase_td(h_xphm, h_tf2, f, psd, T, Fs, params['f_min'], params['f_max'])\n",
    "hf_xphm_matched = gwpe.td_to_fd(h_xphm_matched, T, Fs)\n",
    "cos_aligned = gwpe.overlap_cosine(hf_xphm_matched, hf_tf2, f, psd, T, params['f_min'], params['f_max'])\n",
    "print(cos_aligned)"
   ]
  },
  {
   "cell_type": "code",
   "execution_count": null,
   "metadata": {},
   "outputs": [],
   "source": [
    "%matplotlib inline\n",
    "plt.figure(figsize = (20,6))\n",
    "plt.plot(t, h_tf2[0], label = 'TaylorF2')\n",
    "plt.plot(t, h_xphm_matched[0], label = 'IMRPhenomXPHM, aligned')\n",
    "plt.xlabel('time after merger (s)')\n",
    "plt.ylabel('strain')\n",
    "plt.xlim(-0.3, 0.01)\n",
    "plt.axvline(params['tcoarse'], label = 'merger time in reference detector (Livingston)')\n",
    "plt.legend()\n",
    "plt.show()"
   ]
  },
  {
   "cell_type": "code",
   "execution_count": null,
   "metadata": {},
   "outputs": [],
   "source": [
    "#Goal: Compute and plot h+, hx, and (frequency) derivatives in frequency domain\n",
    "# def hpc(params, f_seq, modelstring): \n",
    "#     \"\"\"\n",
    "#     Computes the plus and cross polarizations for the dict params and model, at the frequencies in f_seq by calling lal for the polarizations directly.\n",
    "#     params: parameter dictionary\n",
    "#     f_seq: REAL8Sequence LAL object that contains a frequency array\n",
    "#     modelstring: strying specifying which model to use, some possible values include \"TaylorF2\", IMRPhenomD\", \"IMRPhenomXPHM\"\n",
    "#     Returns (h+ array, hx array)\n",
    "\n",
    "#\"\"\"\n",
    "#Use IMRPhenomD_NRTidalv2\n",
    "# f_seq = lal.CreateREAL8Sequence(len(fs)) #creates an object with two properties: length, data (np array)\n",
    "#     f_seq.data = fs"
   ]
  },
  {
   "cell_type": "code",
   "execution_count": null,
   "metadata": {},
   "outputs": [],
   "source": [
    "modelstring = \"TaylorF2\"\n",
    "#Want \"IMRPhenomD_NRTidalv2\" or something that takes into account tidal deformability as a parameter\n",
    "\n",
    "def finite_differencing(f, df):\n",
    "    \"\"\"\n",
    "    f - Frequency sequence at which to evaluate derivative\n",
    "    df is the finite differencing hyperparameter\n",
    "    \"\"\"\n",
    "    # f_seq is inps\n",
    "    # REAL8Sequence needed for LAL\n",
    "    f_seq = lal.CreateREAL8Sequence(len(f))\n",
    "    f_seq.data = f\n",
    "    #df_seq is offset inps\n",
    "    df_seq = lal.CreateREAL8Sequence(len(f))\n",
    "    df_seq.data = f+df\n",
    "    \n",
    "    y2 = gwpe.hpc(params, df_seq, modelstring)\n",
    "    y1 = gwpe.hpc(params, f_seq, modelstring)\n",
    "\n",
    "    h_plus = y1[0]\n",
    "    h_cross = y1[1]\n",
    "\n",
    "    dh_plus = (y2[0]-y1[0])/df\n",
    "    dh_cross = (y2[1]-y1[1])/df\n",
    "\n",
    "    return (h_plus, dh_plus, h_cross, dh_cross)"
   ]
  },
  {
   "cell_type": "code",
   "execution_count": null,
   "metadata": {},
   "outputs": [],
   "source": [
    "# df is used for finite differencing, h'(f) = [h(f + df) - h(f)] / df\n",
    "# delta_f: frequency difference between h'(f) array entries\n",
    "df = 1e-9\n",
    "fmin = 30\n",
    "fmax = 100\n",
    "delta_f = 0.01\n",
    "f = np.arange(fmin, fmax, delta_f)\n",
    "data = finite_differencing(f, df)"
   ]
  },
  {
   "cell_type": "code",
   "execution_count": null,
   "metadata": {},
   "outputs": [],
   "source": [
    "data_real = np.real(data)\n",
    "fig, axs = plt.subplots(2, 2, figsize=(12, 12))\n",
    "\n",
    "# Plot on the first subplot\n",
    "axs[0][0].plot(f, data_real[0], color='blue', label='h+')\n",
    "axs[0][0].set_title('h_plus (real)')\n",
    "axs[0][0].legend()\n",
    "\n",
    "# Plot on the second subplot\n",
    "axs[0][1].plot(f, data_real[2], color='red', label='hx')\n",
    "axs[0][1].set_title('h_cross (real)')\n",
    "axs[0][1].legend()\n",
    "\n",
    "# Plot on the third subplot\n",
    "axs[1][0].plot(f, data_real[1], color='blue', label='d_h+')\n",
    "axs[1][0].set_title('h_plus derivative (real)')\n",
    "axs[1][0].legend()\n",
    "\n",
    "# Plot on the fourth subplot\n",
    "axs[1][1].plot(f, data_real[3], color='red', label='d_h+')\n",
    "axs[1][1].set_title('h_cross derivative (real)')\n",
    "axs[1][1].legend()\n",
    "\n",
    "# Adjust layout to prevent clipping of titles\n",
    "plt.tight_layout()\n",
    "\n",
    "# Show the plots\n",
    "plt.show()"
   ]
  },
  {
   "cell_type": "code",
   "execution_count": null,
   "metadata": {},
   "outputs": [],
   "source": [
    "data_imag = np.imag(data)\n",
    "fig, axs = plt.subplots(2, 2, figsize=(12, 12))\n",
    "\n",
    "# Plot on the first subplot\n",
    "axs[0][0].plot(f, data_imag[0], color='blue', label='h+')\n",
    "axs[0][0].set_title('h_plus (imag)')\n",
    "axs[0][0].legend()\n",
    "\n",
    "# Plot on the second subplot\n",
    "axs[0][1].plot(f, data_imag[2], color='red', label='hx')\n",
    "axs[0][1].set_title('h_cross (imag)')\n",
    "axs[0][1].legend()\n",
    "\n",
    "# Plot on the third subplot\n",
    "axs[1][0].plot(f, data_imag[1], color='blue', label='d_h+')\n",
    "axs[1][0].set_title('h_plus derivative (imag)')\n",
    "axs[1][0].legend()\n",
    "\n",
    "# Plot on the fourth subplot\n",
    "axs[1][1].plot(f, data_imag[3], color='red', label='d_h+')\n",
    "axs[1][1].set_title('h_cross derivative (imag)')\n",
    "axs[1][1].legend()\n",
    "\n",
    "# Adjust layout to prevent clipping of titles\n",
    "plt.tight_layout()\n",
    "\n",
    "# Show the plots\n",
    "plt.show()"
   ]
  },
  {
   "cell_type": "code",
   "execution_count": null,
   "metadata": {},
   "outputs": [],
   "source": [
    "#Make accuracy of finite differencing at f=50Hz plot\n",
    "f = np.array([50])\n",
    "deltax_arr = np.geomspace(1e-20, 1, 1000)\n",
    "dh_plus_at50 = np.zeros(1000)\n",
    "dh_cross_at50 = np.zeros(1000)\n",
    "for i, df in enumerate(deltax_arr):\n",
    "    data = np.real(finite_differencing(f, df))\n",
    "    dh_plus_at50[i] = data[1][0]\n",
    "    dh_cross_at50[i] = data[3][0]"
   ]
  },
  {
   "cell_type": "code",
   "execution_count": null,
   "metadata": {},
   "outputs": [],
   "source": [
    "fig, axs = plt.subplots(2, 1, figsize=(12, 24))\n",
    "\n",
    "axs[0].semilogx(deltax_arr, dh_plus_at50)\n",
    "axs[0].set_title(\"Finite Differencing Hyperparameter Test (h+)\")\n",
    "axs[0].set_xlabel(\"df\")\n",
    "axs[0].set_ylabel(\"Evaluated h+'(f)\")\n",
    "\n",
    "axs[1].semilogx(deltax_arr, dh_cross_at50)\n",
    "plt.title(\"Finite Differencing Hyperparameter Test (hx)\")\n",
    "plt.xlabel(\"df\")\n",
    "plt.ylabel(\"Evaluated hx'(f)\")\n",
    "plt.show()"
   ]
  },
  {
   "cell_type": "code",
   "execution_count": null,
   "metadata": {},
   "outputs": [],
   "source": []
  }
 ],
 "metadata": {
  "interpreter": {
   "hash": "6e13d8f3af1e10d83b314102c0be5c8e244505e1295033a32f12cc6e8b312e31"
  },
  "kernelspec": {
   "display_name": "ResearchEnv",
   "language": "python",
   "name": "python3"
  },
  "language_info": {
   "codemirror_mode": {
    "name": "ipython",
    "version": 3
   },
   "file_extension": ".py",
   "mimetype": "text/x-python",
   "name": "python",
   "nbconvert_exporter": "python",
   "pygments_lexer": "ipython3",
   "version": "3.11.6"
  }
 },
 "nbformat": 4,
 "nbformat_minor": 4
}
