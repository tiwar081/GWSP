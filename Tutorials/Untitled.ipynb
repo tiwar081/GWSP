{
 "cells": [
  {
   "cell_type": "code",
   "execution_count": 1,
   "id": "106d8759-7d32-45f9-969a-febf83b9c6b6",
   "metadata": {},
   "outputs": [
    {
     "name": "stderr",
     "output_type": "stream",
     "text": [
      "/var/folders/b8/1d0pxr4s0_9fbr4rdryjb1000000gn/T/ipykernel_3580/2788663208.py:4: UserWarning: Wswiglal-redir-stdio:\n",
      "\n",
      "SWIGLAL standard output/error redirection is enabled in IPython.\n",
      "This may lead to performance penalties. To disable locally, use:\n",
      "\n",
      "with lal.no_swig_redirect_standard_output_error():\n",
      "    ...\n",
      "\n",
      "To disable globally, use:\n",
      "\n",
      "lal.swig_redirect_standard_output_error(True)\n",
      "\n",
      "Note however that this will likely lead to error messages from\n",
      "LAL functions being either misdirected or lost when called from\n",
      "Jupyter notebooks.\n",
      "\n",
      "To suppress this warning, use:\n",
      "\n",
      "import warnings\n",
      "warnings.filterwarnings(\"ignore\", \"Wswiglal-redir-stdio\")\n",
      "import lal\n",
      "\n",
      "  import lal\n"
     ]
    }
   ],
   "source": [
    "from os import fsync\n",
    "import numpy as np\n",
    "import scipy as sp\n",
    "import lal\n",
    "import lalsimulation as lalsim\n",
    "import gwpy\n",
    "from gwpy.timeseries import TimeSeries"
   ]
  },
  {
   "cell_type": "code",
   "execution_count": 9,
   "id": "50c7de7d-446a-43a8-af95-025d61fae2da",
   "metadata": {},
   "outputs": [
    {
     "data": {
      "text/plain": [
       "[array([[-0.3926141 , -0.07761341, -0.24738905],\n",
       "        [-0.07761341,  0.31952408,  0.22799784],\n",
       "        [-0.24738905,  0.22799784,  0.07309003]], dtype=float32),\n",
       " array([[ 0.41128087,  0.14021027,  0.24729459],\n",
       "        [ 0.14021027, -0.10900569, -0.18161564],\n",
       "        [ 0.24729459, -0.18161564, -0.30227515]], dtype=float32),\n",
       " array([[ 0.24387404, -0.09908378, -0.23257622],\n",
       "        [-0.09908378, -0.44782585,  0.1878331 ],\n",
       "        [-0.23257622,  0.1878331 ,  0.2039518 ]], dtype=float32)]"
      ]
     },
     "execution_count": 9,
     "metadata": {},
     "output_type": "execute_result"
    }
   ],
   "source": [
    "DET_CODE = {'H1': lal.LHO_4K_DETECTOR,\n",
    "                'L1': lal.LLO_4K_DETECTOR,\n",
    "                'V1': lal.VIRGO_DETECTOR}\n",
    "det_response = [lal.CachedDetectors[DET_CODE[det_name]].response\n",
    "                                 for det_name in ['H1', 'L1', 'V1']]\n",
    "det_response[:]"
   ]
  },
  {
   "cell_type": "code",
   "execution_count": null,
   "id": "09f78845-f9d2-4eea-95d5-5875d4fdb9b1",
   "metadata": {},
   "outputs": [],
   "source": []
  }
 ],
 "metadata": {
  "kernelspec": {
   "display_name": "ResearchEnv",
   "language": "python",
   "name": "researchenv"
  },
  "language_info": {
   "codemirror_mode": {
    "name": "ipython",
    "version": 3
   },
   "file_extension": ".py",
   "mimetype": "text/x-python",
   "name": "python",
   "nbconvert_exporter": "python",
   "pygments_lexer": "ipython3",
   "version": "3.11.6"
  }
 },
 "nbformat": 4,
 "nbformat_minor": 5
}
